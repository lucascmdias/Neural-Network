{
  "nbformat": 4,
  "nbformat_minor": 0,
  "metadata": {
    "colab": {
      "name": "NN-TwoLayers.ipynb",
      "provenance": []
    },
    "kernelspec": {
      "name": "python3",
      "display_name": "Python 3"
    },
    "accelerator": "GPU"
  },
  "cells": [
    {
      "cell_type": "code",
      "metadata": {
        "id": "dZIbVz4oq_iE"
      },
      "source": [
        "import torch\n",
        "from torch import nn\n",
        "from sklearn.preprocessing import Normalizer,StandardScaler\n",
        "import numpy as np\n",
        "import pandas as pd\n",
        "from sklearn import datasets\n",
        "from sklearn.metrics import accuracy_score\n",
        "from sklearn.metrics import mean_squared_error, r2_score\n",
        "import matplotlib.pyplot as plt\n",
        "%matplotlib inline"
      ],
      "execution_count": 2,
      "outputs": []
    },
    {
      "cell_type": "code",
      "metadata": {
        "id": "-uCEIbN_rHa6",
        "outputId": "720e9d74-ff0f-4e10-e24f-c31e579905c2",
        "colab": {
          "base_uri": "https://localhost:8080/",
          "height": 34
        }
      },
      "source": [
        "if torch.cuda.is_available():\n",
        "  device = torch.device('cuda')\n",
        "else:\n",
        "  device = torch.device('cpu')\n",
        "\n",
        "print(device)"
      ],
      "execution_count": 3,
      "outputs": [
        {
          "output_type": "stream",
          "text": [
            "cuda\n"
          ],
          "name": "stdout"
        }
      ]
    },
    {
      "cell_type": "code",
      "metadata": {
        "id": "SKPz8-TbrIpI"
      },
      "source": [
        "dataframe = pd.read_excel('/content/dados_perturbacao36.xlsx')"
      ],
      "execution_count": 4,
      "outputs": []
    },
    {
      "cell_type": "code",
      "metadata": {
        "id": "lWFZsgJ6rqTu",
        "outputId": "045507e2-9e73-40af-f313-6f1e879dc44b",
        "colab": {
          "base_uri": "https://localhost:8080/",
          "height": 85
        }
      },
      "source": [
        "dataframe.columns"
      ],
      "execution_count": 5,
      "outputs": [
        {
          "output_type": "execute_result",
          "data": {
            "text/plain": [
              "Index(['Time', 'LiqFrac_H', 'LiqFrac_MET', 'LiqFrac_STY', 'LiqFrac_TOL',\n",
              "       'LiqFrac_WAT', 'vapFrac_H', 'vapFrac_MET', 'vapFrac_STY', 'vapFrac_TOL',\n",
              "       'vapFrac_WAT', 'P_bar', 'T_c', 'T_dec'],\n",
              "      dtype='object')"
            ]
          },
          "metadata": {
            "tags": []
          },
          "execution_count": 5
        }
      ]
    },
    {
      "cell_type": "code",
      "metadata": {
        "id": "oIIF88u-rtCu"
      },
      "source": [
        "data = dataframe[['Time', 'LiqFrac_H', 'LiqFrac_MET', 'LiqFrac_STY', 'LiqFrac_TOL',\n",
        "       'LiqFrac_WAT', 'vapFrac_H', 'vapFrac_MET', 'vapFrac_STY', 'vapFrac_TOL',\n",
        "       'vapFrac_WAT', 'P_bar', 'T_c']]\n",
        "target = dataframe['T_dec']"
      ],
      "execution_count": 6,
      "outputs": []
    },
    {
      "cell_type": "code",
      "metadata": {
        "id": "XKqym39Yrw9R",
        "outputId": "2bcec2bf-f416-4668-e1c7-d747395a5d90",
        "colab": {
          "base_uri": "https://localhost:8080/",
          "height": 119
        }
      },
      "source": [
        "normal = Normalizer()\n",
        "data = normal.fit_transform(data)\n",
        "#target = normal.fit_transform(target)\n",
        "print(data.shape, target.shape)\n",
        "\n",
        "print(data[14])\n",
        "print(target[14])"
      ],
      "execution_count": 7,
      "outputs": [
        {
          "output_type": "stream",
          "text": [
            "(459, 13) (459,)\n",
            "[6.97698153e-04 4.11033916e-06 4.81548773e-05 1.64729524e-03\n",
            " 2.15036551e-04 1.75359454e-04 1.42387236e-03 3.55968588e-04\n",
            " 1.42387236e-03 3.55968588e-04 1.42387236e-03 2.01834108e-02\n",
            " 9.99791486e-01]\n",
            "43.5869\n"
          ],
          "name": "stdout"
        }
      ]
    },
    {
      "cell_type": "code",
      "metadata": {
        "id": "eWHK0JL9ry6q"
      },
      "source": [
        "# Cast na GPU\n",
        "#data = torch.from_numpy(data).float()\n",
        "#target = torch.from_numpy(target).float()\n",
        "data = torch.FloatTensor(data).to(device) # GPU\n",
        "target = torch.FloatTensor(target).to(device)"
      ],
      "execution_count": 8,
      "outputs": []
    },
    {
      "cell_type": "code",
      "metadata": {
        "id": "imFsbU77r6OR"
      },
      "source": [
        "class TwoLayerNet(torch.nn.Module):\n",
        "    def __init__(self, D_in, H, D_out):\n",
        "        \"\"\"\n",
        "        In the constructor we instantiate two nn.Linear modules and assign them as\n",
        "        member variables.\n",
        "        \"\"\"\n",
        "        super(TwoLayerNet, self).__init__()\n",
        "        self.linear1 = torch.nn.Linear(D_in, H)\n",
        "        self.linear2 = torch.nn.Linear(H, D_out)\n",
        "\n",
        "    def forward(self, x):\n",
        "        \"\"\"\n",
        "        In the forward function we accept a Tensor of input data and we must return\n",
        "        a Tensor of output data. We can use Modules defined in the constructor as\n",
        "        well as arbitrary operators on Tensors.\n",
        "        \"\"\"\n",
        "        h_relu = self.linear1(x).clamp(min=0)\n",
        "        y_pred = self.linear2(h_relu)\n",
        "        return y_pred"
      ],
      "execution_count": 9,
      "outputs": []
    },
    {
      "cell_type": "code",
      "metadata": {
        "id": "EgwqdgSbr6sw",
        "outputId": "7bb36d3f-4b1d-46ae-89a9-e8dc4886ebdd",
        "colab": {
          "base_uri": "https://localhost:8080/",
          "height": 425
        }
      },
      "source": [
        "# N is batch size; D_in is input dimension;\n",
        "# H is hidden dimension; D_out is output dimension.\n",
        "N, D_in, H, D_out = data.shape[0], data.shape[1], 100, 1\n",
        "\n",
        "# Create random Tensors to hold inputs and outputs\n",
        "x = data\n",
        "y = target\n",
        "\n",
        "\n",
        "\n",
        "# Construct our model by instantiating the class defined above\n",
        "model = TwoLayerNet(D_in, H, D_out).to(device)\n",
        "\n",
        "# Construct our loss function and an Optimizer. The call to model.parameters()\n",
        "# in the SGD constructor will contain the learnable parameters of the two\n",
        "# nn.Linear modules which are members of the model.\n",
        "\n",
        "criterion = torch.nn.MSELoss().to(device)\n",
        "#optimizer = torch.optim.SGD(model.parameters(), lr=0.00001)\n",
        "\n",
        "#criterion = torch.nn.L1Loss().to(device)\n",
        "optimizer = torch.optim.Adam(model.parameters(), lr=5e-5,weight_decay=5e-5)\n",
        "\n",
        "lista_losses = []\n",
        "\n",
        "\n",
        "for t in range(230000):\n",
        "    # Forward pass: Compute predicted y by passing x to the model\n",
        "    y_pred = model(x)\n",
        "\n",
        "    #-------------r2_score-----------\n",
        "    y_pred2 = y_pred.cpu().detach().numpy()\n",
        "    y_true2 = target.cpu()\n",
        "    y_true2 = y_true2.numpy()\n",
        "    r2 = r2_score(y_true2,y_pred2)\n",
        "\n",
        "    # Compute and print loss\n",
        "    loss = criterion(y_pred.squeeze(), y)\n",
        "    lista_losses.append(loss.item())\n",
        "    \n",
        "\n",
        "\n",
        "    if t % 10000 == 99:\n",
        "        print(t, np.sqrt(loss.item()),np.mean(loss.item()))\n",
        "        if r2 < 1 and r2 >= 0 :\n",
        "          print('{} passadas , r2 = {}, Score MSE: {}'.format(t,r2, np.sqrt(loss.item())))\n",
        "          if r2 > 0.98 and r2 < 1:\n",
        "            break\n",
        "        \n",
        "    \n",
        "        \n",
        "        #if r2_score(y_true2,y_pred2) \n",
        "\n",
        "\n",
        "    # Zero gradients, perform a backward pass, and update the weights.\n",
        "    optimizer.zero_grad()\n",
        "    loss.backward()\n",
        "    optimizer.step()\n",
        "\n",
        "\n",
        "#print(y_pred)"
      ],
      "execution_count": 10,
      "outputs": [
        {
          "output_type": "stream",
          "text": [
            "99 43.312247755849185 1875.9508056640625\n",
            "10099 7.743112764779158 59.95579528808594\n",
            "20099 0.5844421888678788 0.34157267212867737\n",
            "20099 passadas , r2 = 0.23054360997085022, Score MSE: 0.5844421888678788\n",
            "30099 0.5231154290785592 0.27364975214004517\n",
            "30099 passadas , r2 = 0.38355264914414466, Score MSE: 0.5231154290785592\n",
            "40099 0.5027595602631738 0.2527671754360199\n",
            "40099 passadas , r2 = 0.43059460263924965, Score MSE: 0.5027595602631738\n",
            "50099 0.47489561075767506 0.2255258411169052\n",
            "50099 passadas , r2 = 0.49196078221663253, Score MSE: 0.47489561075767506\n",
            "60099 0.4391576663831654 0.1928594559431076\n",
            "60099 passadas , r2 = 0.5655479144359278, Score MSE: 0.4391576663831654\n",
            "70099 0.3957163508201735 0.15659143030643463\n",
            "70099 passadas , r2 = 0.6472484856731032, Score MSE: 0.3957163508201735\n",
            "80099 0.3448796891263192 0.11894199997186661\n",
            "80099 passadas , r2 = 0.73206085372587, Score MSE: 0.3448796891263192\n",
            "90099 0.2871185872163529 0.08243708312511444\n",
            "90099 passadas , r2 = 0.814295024423707, Score MSE: 0.2871185872163529\n",
            "100099 0.22308641006507846 0.049767546355724335\n",
            "100099 passadas , r2 = 0.8878892786005989, Score MSE: 0.22308641006507846\n",
            "110099 0.15483860693473003 0.02397499419748783\n",
            "110099 passadas , r2 = 0.9459918368044815, Score MSE: 0.15483860693473003\n",
            "120099 0.08918193475947073 0.007953417487442493\n",
            "120099 passadas , r2 = 0.9820834359255175, Score MSE: 0.08918193475947073\n"
          ],
          "name": "stdout"
        }
      ]
    },
    {
      "cell_type": "code",
      "metadata": {
        "id": "dC7K9zZ6sBz0",
        "outputId": "35209f25-7c21-43a5-dbe9-c022a8e639a4",
        "colab": {
          "base_uri": "https://localhost:8080/",
          "height": 255
        }
      },
      "source": [
        "#pred = y_pred.cpu()\n",
        "#y_true = target.cpu()\n",
        "#y_true = y_true.numpy()\n",
        "#pred = pred.detach().numpy()\n",
        "vamover = y_true2 - y_pred2\n",
        "print(vamover.max(), vamover.min())\n",
        "#print(r2_score(y_true,pred))\n",
        "#print(np.sqrt(mean_squared_error(y_true,pred)))\n",
        "print(vamover)"
      ],
      "execution_count": 11,
      "outputs": [
        {
          "output_type": "stream",
          "text": [
            "2.2159424 -2.4244385\n",
            "[[ 0.22239685  0.2152977   0.20729828 ...  1.1511993   1.1579971\n",
            "   1.1647987 ]\n",
            " [ 0.2276535   0.22055435  0.21255493 ...  1.156456    1.1632538\n",
            "   1.1700554 ]\n",
            " [ 0.2328949   0.22579575  0.21779633 ...  1.1616974   1.1684952\n",
            "   1.1752968 ]\n",
            " ...\n",
            " [-0.97821045 -0.9853096  -0.993309   ... -0.04940796 -0.04261017\n",
            "  -0.03580856]\n",
            " [-0.987175   -0.99427414 -1.0022736  ... -0.0583725  -0.05157471\n",
            "  -0.0447731 ]\n",
            " [-0.9961395  -1.0032387  -1.0112381  ... -0.06733704 -0.06053925\n",
            "  -0.05373764]]\n"
          ],
          "name": "stdout"
        }
      ]
    },
    {
      "cell_type": "code",
      "metadata": {
        "id": "L36hSh-RsFQW",
        "outputId": "dcf1fd2c-f729-4081-f83c-23a29aa54473",
        "colab": {
          "base_uri": "https://localhost:8080/",
          "height": 555
        }
      },
      "source": [
        "plt.figure(figsize=(20, 9))\n",
        "#plt.plot(train_losses, label='Train')\n",
        "plt.plot(lista_losses, label='losses', linewidth=3, alpha=0.5)\n",
        "plt.xlabel('Epochs', fontsize=16)\n",
        "plt.ylabel('Loss', fontsize=16)\n",
        "plt.title('Convergence', fontsize=16)\n",
        "plt.legend()\n",
        "plt.show()"
      ],
      "execution_count": 12,
      "outputs": [
        {
          "output_type": "display_data",
          "data": {
            "image/png": "[encoded data removed]",
            "text/plain": [
              "<Figure size 1440x648 with 1 Axes>"
            ]
          },
          "metadata": {
            "tags": [],
            "needs_background": "light"
          }
        }
      ]
    }
  ]
}